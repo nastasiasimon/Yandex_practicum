{
 "cells": [
  {
   "cell_type": "markdown",
   "id": "3d44366e",
   "metadata": {},
   "source": [
    "# Исследование уровня потребительской лояльности телекоммуникационой компании"
   ]
  },
  {
   "cell_type": "markdown",
   "id": "ed6f46a4",
   "metadata": {},
   "source": [
    "***Заказчик этого исследования*** — большая телекоммуникационная компания, которая оказывает услуги на территории всего СНГ. Перед компанией стоит задача определить текущий уровень потребительской лояльности, или NPS (от англ. Net Promoter Score), среди клиентов из России.    \n",
    "\n",
    "Чтобы определить уровень лояльности, клиентам задавали классический вопрос: «Оцените по шкале от 1 до 10 вероятность того, что вы порекомендуете компанию друзьям и знакомым».   \n",
    "\n",
    "Компания провела опрос и попросила вас подготовить дашборд с его итогами. Большую базу данных для такой задачи разворачивать не стали и выгрузили данные в SQLite.    \n"
   ]
  },
  {
   "cell_type": "markdown",
   "id": "79f5b247",
   "metadata": {},
   "source": [
    "# Вопросы исследования\n",
    "- Как распределены участники опроса по возрасту и полу? Каких пользователей больше: новых или старых? Пользователи из каких городов активнее участвовали в опросе?\n",
    "- Какие группы пользователей наиболее лояльны к сервису? Какие менее?\n",
    "- Какой общий NPS среди всех опрошенных?\n",
    "- Как можно описать клиентов, которые относятся к группе cторонников (англ. promoters)?"
   ]
  },
  {
   "cell_type": "markdown",
   "id": "5d6cab52",
   "metadata": {},
   "source": [
    "# Задачи\n",
    "\n",
    "- Определить какие поля из таблиц понадобятся в работе\n",
    "- Подключиться к базе\n",
    "- Подготовить SQL-запрос и выгрузить необходимые данные\n",
    "- Импортировать в Tableau получившуюся выгрузку\n",
    "- Рассчитать NPS по формуле: % «сторонников» - % «критиков»\n",
    "- Подготовить графики и дашборды, необходимые для ответа на вопросы исследования\n",
    "- Сделать выводы\n",
    "- Подготовить и опубликовать презентацию"
   ]
  },
  {
   "cell_type": "markdown",
   "id": "c0f860d8",
   "metadata": {},
   "source": [
    "### Подключение к базе"
   ]
  },
  {
   "cell_type": "code",
   "execution_count": 1,
   "id": "fc7efa54",
   "metadata": {},
   "outputs": [],
   "source": [
    "import os\n",
    "import pandas as pd\n",
    "import numpy as np\n",
    "\n",
    "from sqlalchemy import create_engine"
   ]
  },
  {
   "cell_type": "code",
   "execution_count": 2,
   "id": "0017f8e7",
   "metadata": {},
   "outputs": [],
   "source": [
    "path_to_db_local = 'telecomm_csi.db'\n",
    "path_to_db_platform = '/datasets/telecomm_csi.db'\n",
    "path_to_db = None\n",
    "\n",
    "if os.path.exists(path_to_db_local):\n",
    "    path_to_db = path_to_db_local\n",
    "elif os.path.exists(path_to_db_platform):\n",
    "    path_to_db = path_to_db_platform\n",
    "else:\n",
    "    raise Exception('Файл с базой данных SQLite не найден!')\n",
    "\n",
    "if path_to_db:\n",
    "    engine = create_engine(f'sqlite:///{path_to_db}', echo=False)"
   ]
  },
  {
   "cell_type": "markdown",
   "id": "ff2541c8",
   "metadata": {},
   "source": [
    "### Создание датасета "
   ]
  },
  {
   "cell_type": "code",
   "execution_count": 8,
   "id": "84ebad43",
   "metadata": {},
   "outputs": [],
   "source": [
    "query = \"\"\"\n",
    "SELECT u.user_id,\n",
    "u.lt_day,\n",
    "(CASE \n",
    "WHEN u.lt_day <= 365 THEN 'да'\n",
    "ELSE 'нет'\n",
    "END) as is_new,\n",
    "u.age,\n",
    "(CASE \n",
    "WHEN u.gender_segment = 1 THEN 'женщина'\n",
    "WHEN u.gender_segment = 0 THEN 'мужчина'\n",
    "ELSE 'unknown'\n",
    "END) as gender_segment,\n",
    "u.os_name,\n",
    "u.cpe_type_name,\n",
    "l.country,\n",
    "l.city,\n",
    "asg.title as age_segment,\n",
    "ts.title as traffic_segment,\n",
    "ls.title as lifetime_segment,\n",
    "u.nps_score,\n",
    "(CASE\n",
    "WHEN u.nps_score <= 6 THEN 'критик'\n",
    "WHEN u.nps_score > 6 AND u.nps_score < 9 THEN 'нейтрал'\n",
    "WHEN u.nps_score >= 9 THEN 'cторонник'\n",
    "END) as nps_group\n",
    "FROM user as u\n",
    "LEFT OUTER JOIN location AS l ON u.location_id = l.location_id\n",
    "LEFT OUTER JOIN age_segment AS asg ON u.age_gr_id = asg.age_gr_id\n",
    "LEFT OUTER JOIN traffic_segment AS ts ON u.tr_gr_id = ts.tr_gr_id\n",
    "LEFT OUTER JOIN lifetime_segment AS ls ON u.lt_gr_id = ls.lt_gr_id;\n",
    "\"\"\""
   ]
  },
  {
   "cell_type": "code",
   "execution_count": 9,
   "id": "3965faf2",
   "metadata": {},
   "outputs": [
    {
     "data": {
      "text/html": [
       "<div>\n",
       "<style scoped>\n",
       "    .dataframe tbody tr th:only-of-type {\n",
       "        vertical-align: middle;\n",
       "    }\n",
       "\n",
       "    .dataframe tbody tr th {\n",
       "        vertical-align: top;\n",
       "    }\n",
       "\n",
       "    .dataframe thead th {\n",
       "        text-align: right;\n",
       "    }\n",
       "</style>\n",
       "<table border=\"1\" class=\"dataframe\">\n",
       "  <thead>\n",
       "    <tr style=\"text-align: right;\">\n",
       "      <th></th>\n",
       "      <th>user_id</th>\n",
       "      <th>lt_day</th>\n",
       "      <th>is_new</th>\n",
       "      <th>age</th>\n",
       "      <th>gender_segment</th>\n",
       "      <th>os_name</th>\n",
       "      <th>cpe_type_name</th>\n",
       "      <th>country</th>\n",
       "      <th>city</th>\n",
       "      <th>age_segment</th>\n",
       "      <th>traffic_segment</th>\n",
       "      <th>lifetime_segment</th>\n",
       "      <th>nps_score</th>\n",
       "      <th>nps_group</th>\n",
       "    </tr>\n",
       "  </thead>\n",
       "  <tbody>\n",
       "    <tr>\n",
       "      <th>0</th>\n",
       "      <td>A001A2</td>\n",
       "      <td>2320</td>\n",
       "      <td>нет</td>\n",
       "      <td>45.0</td>\n",
       "      <td>женщина</td>\n",
       "      <td>ANDROID</td>\n",
       "      <td>SMARTPHONE</td>\n",
       "      <td>Россия</td>\n",
       "      <td>Уфа</td>\n",
       "      <td>05 45-54</td>\n",
       "      <td>04 1-5</td>\n",
       "      <td>08 36+</td>\n",
       "      <td>10</td>\n",
       "      <td>cторонник</td>\n",
       "    </tr>\n",
       "    <tr>\n",
       "      <th>1</th>\n",
       "      <td>A001WF</td>\n",
       "      <td>2344</td>\n",
       "      <td>нет</td>\n",
       "      <td>53.0</td>\n",
       "      <td>мужчина</td>\n",
       "      <td>ANDROID</td>\n",
       "      <td>SMARTPHONE</td>\n",
       "      <td>Россия</td>\n",
       "      <td>Киров</td>\n",
       "      <td>05 45-54</td>\n",
       "      <td>04 1-5</td>\n",
       "      <td>08 36+</td>\n",
       "      <td>10</td>\n",
       "      <td>cторонник</td>\n",
       "    </tr>\n",
       "    <tr>\n",
       "      <th>2</th>\n",
       "      <td>A003Q7</td>\n",
       "      <td>467</td>\n",
       "      <td>нет</td>\n",
       "      <td>57.0</td>\n",
       "      <td>мужчина</td>\n",
       "      <td>ANDROID</td>\n",
       "      <td>SMARTPHONE</td>\n",
       "      <td>Россия</td>\n",
       "      <td>Москва</td>\n",
       "      <td>06 55-64</td>\n",
       "      <td>08 20-25</td>\n",
       "      <td>06 13-24</td>\n",
       "      <td>10</td>\n",
       "      <td>cторонник</td>\n",
       "    </tr>\n",
       "    <tr>\n",
       "      <th>3</th>\n",
       "      <td>A004TB</td>\n",
       "      <td>4190</td>\n",
       "      <td>нет</td>\n",
       "      <td>44.0</td>\n",
       "      <td>женщина</td>\n",
       "      <td>IOS</td>\n",
       "      <td>SMARTPHONE</td>\n",
       "      <td>Россия</td>\n",
       "      <td>РостовнаДону</td>\n",
       "      <td>04 35-44</td>\n",
       "      <td>03 0.1-1</td>\n",
       "      <td>08 36+</td>\n",
       "      <td>10</td>\n",
       "      <td>cторонник</td>\n",
       "    </tr>\n",
       "    <tr>\n",
       "      <th>4</th>\n",
       "      <td>A004XT</td>\n",
       "      <td>1163</td>\n",
       "      <td>нет</td>\n",
       "      <td>24.0</td>\n",
       "      <td>мужчина</td>\n",
       "      <td>ANDROID</td>\n",
       "      <td>SMARTPHONE</td>\n",
       "      <td>Россия</td>\n",
       "      <td>Рязань</td>\n",
       "      <td>02 16-24</td>\n",
       "      <td>05 5-10</td>\n",
       "      <td>08 36+</td>\n",
       "      <td>10</td>\n",
       "      <td>cторонник</td>\n",
       "    </tr>\n",
       "    <tr>\n",
       "      <th>5</th>\n",
       "      <td>A005O0</td>\n",
       "      <td>5501</td>\n",
       "      <td>нет</td>\n",
       "      <td>42.0</td>\n",
       "      <td>женщина</td>\n",
       "      <td>ANDROID</td>\n",
       "      <td>SMARTPHONE</td>\n",
       "      <td>Россия</td>\n",
       "      <td>Омск</td>\n",
       "      <td>04 35-44</td>\n",
       "      <td>05 5-10</td>\n",
       "      <td>08 36+</td>\n",
       "      <td>6</td>\n",
       "      <td>критик</td>\n",
       "    </tr>\n",
       "    <tr>\n",
       "      <th>6</th>\n",
       "      <td>A0061R</td>\n",
       "      <td>1236</td>\n",
       "      <td>нет</td>\n",
       "      <td>45.0</td>\n",
       "      <td>мужчина</td>\n",
       "      <td>ANDROID</td>\n",
       "      <td>SMARTPHONE</td>\n",
       "      <td>Россия</td>\n",
       "      <td>Уфа</td>\n",
       "      <td>05 45-54</td>\n",
       "      <td>06 10-15</td>\n",
       "      <td>08 36+</td>\n",
       "      <td>10</td>\n",
       "      <td>cторонник</td>\n",
       "    </tr>\n",
       "    <tr>\n",
       "      <th>7</th>\n",
       "      <td>A009KS</td>\n",
       "      <td>313</td>\n",
       "      <td>да</td>\n",
       "      <td>35.0</td>\n",
       "      <td>мужчина</td>\n",
       "      <td>ANDROID</td>\n",
       "      <td>SMARTPHONE</td>\n",
       "      <td>Россия</td>\n",
       "      <td>Москва</td>\n",
       "      <td>04 35-44</td>\n",
       "      <td>13 45-50</td>\n",
       "      <td>05 7-12</td>\n",
       "      <td>10</td>\n",
       "      <td>cторонник</td>\n",
       "    </tr>\n",
       "    <tr>\n",
       "      <th>8</th>\n",
       "      <td>A00AES</td>\n",
       "      <td>3238</td>\n",
       "      <td>нет</td>\n",
       "      <td>36.0</td>\n",
       "      <td>женщина</td>\n",
       "      <td>ANDROID</td>\n",
       "      <td>SMARTPHONE</td>\n",
       "      <td>Россия</td>\n",
       "      <td>СанктПетербург</td>\n",
       "      <td>04 35-44</td>\n",
       "      <td>04 1-5</td>\n",
       "      <td>08 36+</td>\n",
       "      <td>10</td>\n",
       "      <td>cторонник</td>\n",
       "    </tr>\n",
       "    <tr>\n",
       "      <th>9</th>\n",
       "      <td>A00F70</td>\n",
       "      <td>4479</td>\n",
       "      <td>нет</td>\n",
       "      <td>54.0</td>\n",
       "      <td>женщина</td>\n",
       "      <td>ANDROID</td>\n",
       "      <td>SMARTPHONE</td>\n",
       "      <td>Россия</td>\n",
       "      <td>Волгоград</td>\n",
       "      <td>05 45-54</td>\n",
       "      <td>07 15-20</td>\n",
       "      <td>08 36+</td>\n",
       "      <td>9</td>\n",
       "      <td>cторонник</td>\n",
       "    </tr>\n",
       "  </tbody>\n",
       "</table>\n",
       "</div>"
      ],
      "text/plain": [
       "  user_id  lt_day is_new   age gender_segment  os_name cpe_type_name country  \\\n",
       "0  A001A2    2320    нет  45.0        женщина  ANDROID    SMARTPHONE  Россия   \n",
       "1  A001WF    2344    нет  53.0        мужчина  ANDROID    SMARTPHONE  Россия   \n",
       "2  A003Q7     467    нет  57.0        мужчина  ANDROID    SMARTPHONE  Россия   \n",
       "3  A004TB    4190    нет  44.0        женщина      IOS    SMARTPHONE  Россия   \n",
       "4  A004XT    1163    нет  24.0        мужчина  ANDROID    SMARTPHONE  Россия   \n",
       "5  A005O0    5501    нет  42.0        женщина  ANDROID    SMARTPHONE  Россия   \n",
       "6  A0061R    1236    нет  45.0        мужчина  ANDROID    SMARTPHONE  Россия   \n",
       "7  A009KS     313     да  35.0        мужчина  ANDROID    SMARTPHONE  Россия   \n",
       "8  A00AES    3238    нет  36.0        женщина  ANDROID    SMARTPHONE  Россия   \n",
       "9  A00F70    4479    нет  54.0        женщина  ANDROID    SMARTPHONE  Россия   \n",
       "\n",
       "             city age_segment traffic_segment lifetime_segment  nps_score  \\\n",
       "0             Уфа    05 45-54          04 1-5           08 36+         10   \n",
       "1           Киров    05 45-54          04 1-5           08 36+         10   \n",
       "2          Москва    06 55-64        08 20-25         06 13-24         10   \n",
       "3    РостовнаДону    04 35-44        03 0.1-1           08 36+         10   \n",
       "4          Рязань    02 16-24         05 5-10           08 36+         10   \n",
       "5            Омск    04 35-44         05 5-10           08 36+          6   \n",
       "6             Уфа    05 45-54        06 10-15           08 36+         10   \n",
       "7          Москва    04 35-44        13 45-50          05 7-12         10   \n",
       "8  СанктПетербург    04 35-44          04 1-5           08 36+         10   \n",
       "9       Волгоград    05 45-54        07 15-20           08 36+          9   \n",
       "\n",
       "   nps_group  \n",
       "0  cторонник  \n",
       "1  cторонник  \n",
       "2  cторонник  \n",
       "3  cторонник  \n",
       "4  cторонник  \n",
       "5     критик  \n",
       "6  cторонник  \n",
       "7  cторонник  \n",
       "8  cторонник  \n",
       "9  cторонник  "
      ]
     },
     "execution_count": 9,
     "metadata": {},
     "output_type": "execute_result"
    }
   ],
   "source": [
    "df = pd.read_sql(query, engine)\n",
    "df.head(10)"
   ]
  },
  {
   "cell_type": "code",
   "execution_count": 6,
   "id": "f5d8ca16",
   "metadata": {},
   "outputs": [
    {
     "name": "stdout",
     "output_type": "stream",
     "text": [
      "<class 'pandas.core.frame.DataFrame'>\n",
      "RangeIndex: 502493 entries, 0 to 502492\n",
      "Data columns (total 14 columns):\n",
      " #   Column            Non-Null Count   Dtype  \n",
      "---  ------            --------------   -----  \n",
      " 0   user_id           502493 non-null  object \n",
      " 1   lt_day            502493 non-null  int64  \n",
      " 2   is_new            502493 non-null  object \n",
      " 3   age               501939 non-null  float64\n",
      " 4   gender_segment    502493 non-null  object \n",
      " 5   os_name           502493 non-null  object \n",
      " 6   cpe_type_name     502493 non-null  object \n",
      " 7   country           502493 non-null  object \n",
      " 8   city              502493 non-null  object \n",
      " 9   age_segment       502493 non-null  object \n",
      " 10  traffic_segment   502493 non-null  object \n",
      " 11  lifetime_segment  502493 non-null  object \n",
      " 12  nps_score         502493 non-null  int64  \n",
      " 13  nps_group         502493 non-null  object \n",
      "dtypes: float64(1), int64(2), object(11)\n",
      "memory usage: 53.7+ MB\n"
     ]
    }
   ],
   "source": [
    "df.info()"
   ]
  },
  {
   "cell_type": "code",
   "execution_count": 7,
   "id": "ba5e2247",
   "metadata": {},
   "outputs": [
    {
     "data": {
      "text/html": [
       "<div>\n",
       "<style scoped>\n",
       "    .dataframe tbody tr th:only-of-type {\n",
       "        vertical-align: middle;\n",
       "    }\n",
       "\n",
       "    .dataframe tbody tr th {\n",
       "        vertical-align: top;\n",
       "    }\n",
       "\n",
       "    .dataframe thead th {\n",
       "        text-align: right;\n",
       "    }\n",
       "</style>\n",
       "<table border=\"1\" class=\"dataframe\">\n",
       "  <thead>\n",
       "    <tr style=\"text-align: right;\">\n",
       "      <th></th>\n",
       "      <th>lt_day</th>\n",
       "      <th>age</th>\n",
       "      <th>nps_score</th>\n",
       "    </tr>\n",
       "  </thead>\n",
       "  <tbody>\n",
       "    <tr>\n",
       "      <th>count</th>\n",
       "      <td>502493.000000</td>\n",
       "      <td>501939.000000</td>\n",
       "      <td>502493.000000</td>\n",
       "    </tr>\n",
       "    <tr>\n",
       "      <th>mean</th>\n",
       "      <td>1868.841439</td>\n",
       "      <td>39.621946</td>\n",
       "      <td>7.508562</td>\n",
       "    </tr>\n",
       "    <tr>\n",
       "      <th>std</th>\n",
       "      <td>1683.701762</td>\n",
       "      <td>11.188249</td>\n",
       "      <td>3.020378</td>\n",
       "    </tr>\n",
       "    <tr>\n",
       "      <th>min</th>\n",
       "      <td>-21.000000</td>\n",
       "      <td>10.000000</td>\n",
       "      <td>1.000000</td>\n",
       "    </tr>\n",
       "    <tr>\n",
       "      <th>25%</th>\n",
       "      <td>533.000000</td>\n",
       "      <td>31.000000</td>\n",
       "      <td>5.000000</td>\n",
       "    </tr>\n",
       "    <tr>\n",
       "      <th>50%</th>\n",
       "      <td>1239.000000</td>\n",
       "      <td>38.000000</td>\n",
       "      <td>9.000000</td>\n",
       "    </tr>\n",
       "    <tr>\n",
       "      <th>75%</th>\n",
       "      <td>3064.000000</td>\n",
       "      <td>47.000000</td>\n",
       "      <td>10.000000</td>\n",
       "    </tr>\n",
       "    <tr>\n",
       "      <th>max</th>\n",
       "      <td>9162.000000</td>\n",
       "      <td>89.000000</td>\n",
       "      <td>10.000000</td>\n",
       "    </tr>\n",
       "  </tbody>\n",
       "</table>\n",
       "</div>"
      ],
      "text/plain": [
       "              lt_day            age      nps_score\n",
       "count  502493.000000  501939.000000  502493.000000\n",
       "mean     1868.841439      39.621946       7.508562\n",
       "std      1683.701762      11.188249       3.020378\n",
       "min       -21.000000      10.000000       1.000000\n",
       "25%       533.000000      31.000000       5.000000\n",
       "50%      1239.000000      38.000000       9.000000\n",
       "75%      3064.000000      47.000000      10.000000\n",
       "max      9162.000000      89.000000      10.000000"
      ]
     },
     "execution_count": 7,
     "metadata": {},
     "output_type": "execute_result"
    }
   ],
   "source": [
    "df.describe()"
   ]
  },
  {
   "cell_type": "markdown",
   "id": "f4a76b36",
   "metadata": {},
   "source": [
    "### Выгрузка датасета"
   ]
  },
  {
   "cell_type": "code",
   "execution_count": 5,
   "id": "9db04858",
   "metadata": {},
   "outputs": [],
   "source": [
    "df.to_csv('telecomm_csi_tableau.csv', index=False)"
   ]
  },
  {
   "cell_type": "markdown",
   "id": "ecd6a7e2",
   "metadata": {},
   "source": [
    "### Дашборды и презентация по ссылке"
   ]
  },
  {
   "cell_type": "markdown",
   "id": "798104d1",
   "metadata": {},
   "source": [
    "https://public.tableau.com/views/Telecomm_17206407245830/1?:language=en-US&:sid=&:redirect=auth&:display_count=n&:origin=viz_share_link"
   ]
  }
 ],
 "metadata": {
  "ExecuteTimeLog": [
   {
    "duration": 542,
    "start_time": "2024-07-08T14:10:52.609Z"
   },
   {
    "duration": 69,
    "start_time": "2024-07-08T14:11:02.737Z"
   },
   {
    "duration": 4,
    "start_time": "2024-07-08T14:11:33.617Z"
   },
   {
    "duration": 3889,
    "start_time": "2024-07-08T14:11:54.401Z"
   },
   {
    "duration": 2,
    "start_time": "2024-07-08T14:34:14.218Z"
   },
   {
    "duration": 526,
    "start_time": "2024-07-08T14:34:16.796Z"
   },
   {
    "duration": 2,
    "start_time": "2024-07-08T14:35:34.014Z"
   },
   {
    "duration": 527,
    "start_time": "2024-07-08T14:35:35.297Z"
   },
   {
    "duration": 2,
    "start_time": "2024-07-08T14:36:20.760Z"
   },
   {
    "duration": 525,
    "start_time": "2024-07-08T14:36:21.716Z"
   },
   {
    "duration": 2,
    "start_time": "2024-07-08T14:38:11.131Z"
   },
   {
    "duration": 3025,
    "start_time": "2024-07-08T14:38:12.185Z"
   },
   {
    "duration": 3177,
    "start_time": "2024-07-08T14:38:22.861Z"
   },
   {
    "duration": 2,
    "start_time": "2024-07-08T14:42:47.094Z"
   },
   {
    "duration": 634,
    "start_time": "2024-07-08T14:42:48.650Z"
   },
   {
    "duration": 3,
    "start_time": "2024-07-08T14:45:55.358Z"
   },
   {
    "duration": 593,
    "start_time": "2024-07-08T14:45:57.155Z"
   },
   {
    "duration": 4,
    "start_time": "2024-07-08T14:47:00.892Z"
   },
   {
    "duration": 606,
    "start_time": "2024-07-08T14:47:02.067Z"
   },
   {
    "duration": 2,
    "start_time": "2024-07-08T14:48:14.580Z"
   },
   {
    "duration": 590,
    "start_time": "2024-07-08T14:48:15.819Z"
   },
   {
    "duration": 2,
    "start_time": "2024-07-08T14:48:25.930Z"
   },
   {
    "duration": 1377,
    "start_time": "2024-07-08T14:48:27.949Z"
   },
   {
    "duration": 2,
    "start_time": "2024-07-08T14:48:44.060Z"
   },
   {
    "duration": 578,
    "start_time": "2024-07-08T14:48:45.553Z"
   },
   {
    "duration": 2,
    "start_time": "2024-07-08T14:49:20.762Z"
   },
   {
    "duration": 2358,
    "start_time": "2024-07-08T14:49:21.569Z"
   },
   {
    "duration": 2,
    "start_time": "2024-07-08T14:53:49.712Z"
   },
   {
    "duration": 3004,
    "start_time": "2024-07-08T14:53:56.684Z"
   },
   {
    "duration": 2,
    "start_time": "2024-07-08T15:01:08.452Z"
   },
   {
    "duration": 343,
    "start_time": "2024-07-08T15:01:09.991Z"
   },
   {
    "duration": 3,
    "start_time": "2024-07-08T15:01:30.043Z"
   },
   {
    "duration": 3417,
    "start_time": "2024-07-08T15:01:31.908Z"
   },
   {
    "duration": 3304,
    "start_time": "2024-07-08T15:01:57.026Z"
   },
   {
    "duration": 4,
    "start_time": "2024-07-08T15:05:37.286Z"
   },
   {
    "duration": 343,
    "start_time": "2024-07-08T15:05:39.154Z"
   },
   {
    "duration": 4,
    "start_time": "2024-07-08T15:06:38.653Z"
   },
   {
    "duration": 3591,
    "start_time": "2024-07-08T15:06:40.535Z"
   },
   {
    "duration": 2,
    "start_time": "2024-07-08T15:09:20.755Z"
   },
   {
    "duration": 3870,
    "start_time": "2024-07-08T15:09:21.976Z"
   },
   {
    "duration": 2,
    "start_time": "2024-07-08T15:10:50.524Z"
   },
   {
    "duration": 4012,
    "start_time": "2024-07-08T15:10:52.794Z"
   },
   {
    "duration": 3,
    "start_time": "2024-07-08T15:18:09.781Z"
   },
   {
    "duration": 4423,
    "start_time": "2024-07-08T15:18:11.292Z"
   },
   {
    "duration": 3,
    "start_time": "2024-07-08T15:21:37.034Z"
   },
   {
    "duration": 4621,
    "start_time": "2024-07-08T15:21:39.438Z"
   },
   {
    "duration": 2,
    "start_time": "2024-07-08T15:23:00.944Z"
   },
   {
    "duration": 484,
    "start_time": "2024-07-08T15:23:24.517Z"
   },
   {
    "duration": 56,
    "start_time": "2024-07-08T15:23:26.458Z"
   },
   {
    "duration": 3,
    "start_time": "2024-07-08T15:23:28.807Z"
   },
   {
    "duration": 4946,
    "start_time": "2024-07-08T15:23:31.390Z"
   },
   {
    "duration": 4011,
    "start_time": "2024-07-08T15:25:24.435Z"
   },
   {
    "duration": 2,
    "start_time": "2024-07-10T20:06:01.729Z"
   },
   {
    "duration": 585,
    "start_time": "2024-07-11T08:04:45.325Z"
   },
   {
    "duration": 81,
    "start_time": "2024-07-11T08:04:47.096Z"
   },
   {
    "duration": 3,
    "start_time": "2024-07-11T08:04:51.752Z"
   },
   {
    "duration": 5822,
    "start_time": "2024-07-11T08:04:58.213Z"
   },
   {
    "duration": 68,
    "start_time": "2024-07-11T08:05:25.779Z"
   },
   {
    "duration": 593,
    "start_time": "2024-07-11T08:06:19.349Z"
   },
   {
    "duration": 79,
    "start_time": "2024-07-11T08:06:46.051Z"
   },
   {
    "duration": 3,
    "start_time": "2024-07-11T08:09:30.837Z"
   },
   {
    "duration": 5364,
    "start_time": "2024-07-11T08:09:35.766Z"
   },
   {
    "duration": 66,
    "start_time": "2024-07-11T08:10:57.062Z"
   },
   {
    "duration": 60,
    "start_time": "2024-07-11T08:12:05.906Z"
   }
  ],
  "kernelspec": {
   "display_name": "Python 3 (ipykernel)",
   "language": "python",
   "name": "python3"
  },
  "language_info": {
   "codemirror_mode": {
    "name": "ipython",
    "version": 3
   },
   "file_extension": ".py",
   "mimetype": "text/x-python",
   "name": "python",
   "nbconvert_exporter": "python",
   "pygments_lexer": "ipython3",
   "version": "3.9.18"
  },
  "toc": {
   "base_numbering": 1,
   "nav_menu": {},
   "number_sections": true,
   "sideBar": true,
   "skip_h1_title": true,
   "title_cell": "Table of Contents",
   "title_sidebar": "Contents",
   "toc_cell": false,
   "toc_position": {},
   "toc_section_display": true,
   "toc_window_display": true
  }
 },
 "nbformat": 4,
 "nbformat_minor": 5
}
